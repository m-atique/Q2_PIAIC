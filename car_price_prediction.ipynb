{
  "nbformat": 4,
  "nbformat_minor": 0,
  "metadata": {
    "colab": {
      "name": "car price prediction.ipynb",
      "provenance": [],
      "authorship_tag": "ABX9TyNRvN1aqwSo5yKT3J+hqmPi",
      "include_colab_link": true
    },
    "kernelspec": {
      "name": "python3",
      "display_name": "Python 3"
    },
    "language_info": {
      "name": "python"
    }
  },
  "cells": [
    {
      "cell_type": "markdown",
      "metadata": {
        "id": "view-in-github",
        "colab_type": "text"
      },
      "source": [
        "<a href=\"https://colab.research.google.com/github/m-atique/Q2_PIAIC/blob/Assignments/car_price_prediction.ipynb\" target=\"_parent\"><img src=\"https://colab.research.google.com/assets/colab-badge.svg\" alt=\"Open In Colab\"/></a>"
      ]
    },
    {
      "cell_type": "markdown",
      "metadata": {
        "id": "YkDeYAjkPNZK"
      },
      "source": [
        "# ---------------------DEEP LEARNING ASSIGNMETS--------------------------"
      ]
    },
    {
      "cell_type": "markdown",
      "metadata": {
        "id": "8pk3XwlhPdqW"
      },
      "source": [
        "## ASSIGNMENT 01 CAR PRICE PREDDICTION\n",
        "======================================="
      ]
    },
    {
      "cell_type": "code",
      "metadata": {
        "id": "L1PCYCyKPqcB",
        "colab": {
          "resources": {
            "http://localhost:8080/nbextensions/google.colab/files.js": {
              "data": "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",
              "ok": true,
              "headers": [
                [
                  "content-type",
                  "application/javascript"
                ]
              ],
              "status": 200,
              "status_text": ""
            }
          },
          "base_uri": "https://localhost:8080/",
          "height": 72
        },
        "outputId": "65b10ea2-ae3d-4e56-9097-11fee9e5695e"
      },
      "source": [
        "import io\n",
        "from google.colab import files\n",
        "uploaded = files.upload()"
      ],
      "execution_count": null,
      "outputs": [
        {
          "output_type": "display_data",
          "data": {
            "text/html": [
              "\n",
              "     <input type=\"file\" id=\"files-98772eba-0f9f-4208-954a-f3a968ba167b\" name=\"files[]\" multiple disabled\n",
              "        style=\"border:none\" />\n",
              "     <output id=\"result-98772eba-0f9f-4208-954a-f3a968ba167b\">\n",
              "      Upload widget is only available when the cell has been executed in the\n",
              "      current browser session. Please rerun this cell to enable.\n",
              "      </output>\n",
              "      <script src=\"/nbextensions/google.colab/files.js\"></script> "
            ],
            "text/plain": [
              "<IPython.core.display.HTML object>"
            ]
          },
          "metadata": {
            "tags": []
          }
        },
        {
          "output_type": "stream",
          "text": [
            "Saving CarPrice_Assignment.csv to CarPrice_Assignment (1).csv\n"
          ],
          "name": "stdout"
        }
      ]
    },
    {
      "cell_type": "code",
      "metadata": {
        "id": "qyt_mIrcR_nM"
      },
      "source": [
        "import numpy as np\n",
        "import pandas as pd\n",
        "import matplotlib.pyplot as plt\n",
        "import tensorflow"
      ],
      "execution_count": null,
      "outputs": []
    },
    {
      "cell_type": "markdown",
      "metadata": {
        "id": "N-zVG972TRB2"
      },
      "source": [
        "# Loadind data"
      ]
    },
    {
      "cell_type": "code",
      "metadata": {
        "id": "EMUbsCjNS4zt"
      },
      "source": [
        "df = pd.read_csv(io.BytesIO(uploaded['CarPrice_Assignment.csv']))"
      ],
      "execution_count": null,
      "outputs": []
    },
    {
      "cell_type": "code",
      "metadata": {
        "colab": {
          "base_uri": "https://localhost:8080/"
        },
        "id": "69vHn0TsTN5Z",
        "outputId": "9d516ba0-56fa-49a7-8ae0-d9acfcc3cb51"
      },
      "source": [
        "np.where(pd.isnull(df))  # there is not any null value"
      ],
      "execution_count": null,
      "outputs": [
        {
          "output_type": "execute_result",
          "data": {
            "text/plain": [
              "(array([], dtype=int64), array([], dtype=int64))"
            ]
          },
          "metadata": {
            "tags": []
          },
          "execution_count": 282
        }
      ]
    },
    {
      "cell_type": "code",
      "metadata": {
        "colab": {
          "base_uri": "https://localhost:8080/"
        },
        "id": "NVIwZUrDU3U5",
        "outputId": "b7ef9bf4-dfb6-45f8-9148-d43178ee2e7b"
      },
      "source": [
        "df.shape"
      ],
      "execution_count": null,
      "outputs": [
        {
          "output_type": "execute_result",
          "data": {
            "text/plain": [
              "(205, 26)"
            ]
          },
          "metadata": {
            "tags": []
          },
          "execution_count": 283
        }
      ]
    },
    {
      "cell_type": "markdown",
      "metadata": {
        "id": "PvbQ0kwkU_if"
      },
      "source": [
        "# Data partition in to training, testing and validation"
      ]
    },
    {
      "cell_type": "code",
      "metadata": {
        "colab": {
          "base_uri": "https://localhost:8080/"
        },
        "id": "sBW_py8pU-uM",
        "outputId": "1626a34a-d655-4c94-f408-60427518ee1d"
      },
      "source": [
        "df.info()  # To know about Data types"
      ],
      "execution_count": null,
      "outputs": [
        {
          "output_type": "stream",
          "text": [
            "<class 'pandas.core.frame.DataFrame'>\n",
            "RangeIndex: 205 entries, 0 to 204\n",
            "Data columns (total 26 columns):\n",
            " #   Column            Non-Null Count  Dtype  \n",
            "---  ------            --------------  -----  \n",
            " 0   car_ID            205 non-null    int64  \n",
            " 1   symboling         205 non-null    int64  \n",
            " 2   CarName           205 non-null    object \n",
            " 3   fueltype          205 non-null    object \n",
            " 4   aspiration        205 non-null    object \n",
            " 5   doornumber        205 non-null    object \n",
            " 6   carbody           205 non-null    object \n",
            " 7   drivewheel        205 non-null    object \n",
            " 8   enginelocation    205 non-null    object \n",
            " 9   wheelbase         205 non-null    float64\n",
            " 10  carlength         205 non-null    float64\n",
            " 11  carwidth          205 non-null    float64\n",
            " 12  carheight         205 non-null    float64\n",
            " 13  curbweight        205 non-null    int64  \n",
            " 14  enginetype        205 non-null    object \n",
            " 15  cylindernumber    205 non-null    object \n",
            " 16  enginesize        205 non-null    int64  \n",
            " 17  fuelsystem        205 non-null    object \n",
            " 18  boreratio         205 non-null    float64\n",
            " 19  stroke            205 non-null    float64\n",
            " 20  compressionratio  205 non-null    float64\n",
            " 21  horsepower        205 non-null    int64  \n",
            " 22  peakrpm           205 non-null    int64  \n",
            " 23  citympg           205 non-null    int64  \n",
            " 24  highwaympg        205 non-null    int64  \n",
            " 25  price             205 non-null    float64\n",
            "dtypes: float64(8), int64(8), object(10)\n",
            "memory usage: 41.8+ KB\n"
          ],
          "name": "stdout"
        }
      ]
    },
    {
      "cell_type": "code",
      "metadata": {
        "colab": {
          "base_uri": "https://localhost:8080/"
        },
        "id": "BaAqd7W4U8Wb",
        "outputId": "afa1c678-e84c-4b9f-b6c2-e8e666077223"
      },
      "source": [
        "df.isnull().sum()  # To know about null values"
      ],
      "execution_count": null,
      "outputs": [
        {
          "output_type": "execute_result",
          "data": {
            "text/plain": [
              "car_ID              0\n",
              "symboling           0\n",
              "CarName             0\n",
              "fueltype            0\n",
              "aspiration          0\n",
              "doornumber          0\n",
              "carbody             0\n",
              "drivewheel          0\n",
              "enginelocation      0\n",
              "wheelbase           0\n",
              "carlength           0\n",
              "carwidth            0\n",
              "carheight           0\n",
              "curbweight          0\n",
              "enginetype          0\n",
              "cylindernumber      0\n",
              "enginesize          0\n",
              "fuelsystem          0\n",
              "boreratio           0\n",
              "stroke              0\n",
              "compressionratio    0\n",
              "horsepower          0\n",
              "peakrpm             0\n",
              "citympg             0\n",
              "highwaympg          0\n",
              "price               0\n",
              "dtype: int64"
            ]
          },
          "metadata": {
            "tags": []
          },
          "execution_count": 285
        }
      ]
    },
    {
      "cell_type": "code",
      "metadata": {
        "id": "hbwRS5HvgpPC",
        "colab": {
          "base_uri": "https://localhost:8080/"
        },
        "outputId": "d1af65eb-7c96-4d7b-fa13-8c3c6834cbdf"
      },
      "source": [
        "df.drop(columns='car_ID', inplace=True)   # To Get more specific data\n",
        "df.drop(columns='CarName', inplace=True)\n",
        "df.shape"
      ],
      "execution_count": null,
      "outputs": [
        {
          "output_type": "execute_result",
          "data": {
            "text/plain": [
              "(205, 24)"
            ]
          },
          "metadata": {
            "tags": []
          },
          "execution_count": 286
        }
      ]
    },
    {
      "cell_type": "code",
      "metadata": {
        "id": "6oy9nC8leEtr"
      },
      "source": [
        "# BEcause of data type of some fields is object so one hot encoding is required\n",
        "data = pd.get_dummies(df, prefix=['fueltype','aspiration', 'doornumber','carbody', 'drivewheel', 'enginelocation', 'enginetype','cylindernumber', \n",
        "                                          'fuelsystem'])"
      ],
      "execution_count": null,
      "outputs": []
    },
    {
      "cell_type": "code",
      "metadata": {
        "colab": {
          "base_uri": "https://localhost:8080/"
        },
        "id": "k6LKwqy-I66Z",
        "outputId": "20e677e8-3abc-4fe0-ea9d-bac49bf0a3b5"
      },
      "source": [
        "data.shape"
      ],
      "execution_count": null,
      "outputs": [
        {
          "output_type": "execute_result",
          "data": {
            "text/plain": [
              "(205, 53)"
            ]
          },
          "metadata": {
            "tags": []
          },
          "execution_count": 288
        }
      ]
    },
    {
      "cell_type": "code",
      "metadata": {
        "colab": {
          "base_uri": "https://localhost:8080/"
        },
        "id": "0unKelNxhhGp",
        "outputId": "ae826792-92b1-4c58-d515-9808efb4df4e"
      },
      "source": [
        "labels = data['price']  # AS we have to pridict about price Use price as labels\n",
        "print(labels)"
      ],
      "execution_count": null,
      "outputs": [
        {
          "output_type": "stream",
          "text": [
            "0      13495.0\n",
            "1      16500.0\n",
            "2      16500.0\n",
            "3      13950.0\n",
            "4      17450.0\n",
            "        ...   \n",
            "200    16845.0\n",
            "201    19045.0\n",
            "202    21485.0\n",
            "203    22470.0\n",
            "204    22625.0\n",
            "Name: price, Length: 205, dtype: float64\n"
          ],
          "name": "stdout"
        }
      ]
    },
    {
      "cell_type": "code",
      "metadata": {
        "id": "uslGtw_th9pa",
        "colab": {
          "base_uri": "https://localhost:8080/"
        },
        "outputId": "d700afe8-77d4-43b3-b7f1-12221f0ed012"
      },
      "source": [
        "data.drop(columns='price', inplace=True)  #  Data other than price\n",
        "data.shape"
      ],
      "execution_count": null,
      "outputs": [
        {
          "output_type": "execute_result",
          "data": {
            "text/plain": [
              "(205, 52)"
            ]
          },
          "metadata": {
            "tags": []
          },
          "execution_count": 290
        }
      ]
    },
    {
      "cell_type": "markdown",
      "metadata": {
        "id": "LKy0yCAIkVwQ"
      },
      "source": [
        "**Dividing data in to 50, 30 and 20 percent as training, testing, validation**"
      ]
    },
    {
      "cell_type": "code",
      "metadata": {
        "id": "nQo022THiPrP"
      },
      "source": [
        "train_data = data[:105]\n",
        "train_labels = labels[:105]\n",
        "test_data = data[105:166]\n",
        "test_labels = labels[106:166]\n",
        "val_data = data[166:]\n",
        "val_labels = labels[166:]"
      ],
      "execution_count": null,
      "outputs": []
    },
    {
      "cell_type": "code",
      "metadata": {
        "id": "EhZt9JSxvwM8",
        "colab": {
          "base_uri": "https://localhost:8080/"
        },
        "outputId": "02135016-39a2-452e-ca5a-572e16ad6e0d"
      },
      "source": [
        "# Nornalization of data\n",
        "mean = train_data.iloc[: , 0:14].mean(axis=0)\n",
        "train_data.iloc[: , 0:14] -= mean\n",
        "std = train_data.iloc[:, 0:14].std(axis=0)\n",
        "train_data.iloc[: , 0:14] /= std \n",
        " \n",
        "#==============================================\n",
        "\n",
        "val_data.iloc[:, 0:14] -= mean\n",
        "val_data.iloc[:, 0:14] /= std\n",
        " \n",
        "#===============================================\n",
        "test_data.iloc[:, 0:14] -= mean\n",
        "test_data.iloc[:, 0:14] /= std\n"
      ],
      "execution_count": null,
      "outputs": [
        {
          "output_type": "stream",
          "text": [
            "/usr/local/lib/python3.7/dist-packages/pandas/core/indexing.py:1715: SettingWithCopyWarning: \n",
            "A value is trying to be set on a copy of a slice from a DataFrame.\n",
            "Try using .loc[row_indexer,col_indexer] = value instead\n",
            "\n",
            "See the caveats in the documentation: https://pandas.pydata.org/pandas-docs/stable/user_guide/indexing.html#returning-a-view-versus-a-copy\n",
            "  isetter(loc, v)\n"
          ],
          "name": "stderr"
        }
      ]
    },
    {
      "cell_type": "code",
      "metadata": {
        "id": "7Kb2QoPdxbhZ"
      },
      "source": [
        "from tensorflow.keras import models,layers"
      ],
      "execution_count": null,
      "outputs": []
    },
    {
      "cell_type": "code",
      "metadata": {
        "id": "Dwx6Og9lyB4p"
      },
      "source": [
        "najomi= models.Sequential()\n",
        "najomi.add(layers.Dense(104, activation= 'relu', input_shape = (train_data.shape[1],)))\n",
        "najomi.add(layers.Dense(52, activation='relu'))\n",
        "najomi.add(layers.Dense(16, activation='relu'))\n",
        "najomi.add(layers.Dense(1))\n",
        "\n"
      ],
      "execution_count": null,
      "outputs": []
    },
    {
      "cell_type": "code",
      "metadata": {
        "id": "WVm9ZIeWyUF9"
      },
      "source": [
        "najomi.compile(optimizer='rmsprop', loss='mse', metrics='mae')"
      ],
      "execution_count": null,
      "outputs": []
    },
    {
      "cell_type": "code",
      "metadata": {
        "colab": {
          "base_uri": "https://localhost:8080/"
        },
        "id": "GWZAaRhJy9f-",
        "outputId": "494a2e31-6b58-48fc-8665-505b3a6f8583"
      },
      "source": [
        "history = najomi.fit(train_data,train_labels, batch_size=16,  epochs=70, validation_data=(val_data, val_labels))"
      ],
      "execution_count": null,
      "outputs": [
        {
          "output_type": "stream",
          "text": [
            "Epoch 1/70\n",
            "7/7 [==============================] - 1s 33ms/step - loss: 268890546.0000 - mae: 13428.1863 - val_loss: 191242704.0000 - val_mae: 13163.6982\n",
            "Epoch 2/70\n",
            "7/7 [==============================] - 0s 9ms/step - loss: 317838256.0000 - mae: 14488.6626 - val_loss: 191200944.0000 - val_mae: 13162.1289\n",
            "Epoch 3/70\n",
            "7/7 [==============================] - 0s 8ms/step - loss: 307247572.0000 - mae: 14190.2932 - val_loss: 191133920.0000 - val_mae: 13159.6543\n",
            "Epoch 4/70\n",
            "7/7 [==============================] - 0s 7ms/step - loss: 294603888.0000 - mae: 14226.2291 - val_loss: 191031536.0000 - val_mae: 13155.8916\n",
            "Epoch 5/70\n",
            "7/7 [==============================] - 0s 9ms/step - loss: 271297114.0000 - mae: 13959.7395 - val_loss: 190883872.0000 - val_mae: 13150.5127\n",
            "Epoch 6/70\n",
            "7/7 [==============================] - 0s 10ms/step - loss: 279345602.0000 - mae: 14031.0142 - val_loss: 190701440.0000 - val_mae: 13143.8242\n",
            "Epoch 7/70\n",
            "7/7 [==============================] - 0s 8ms/step - loss: 349367144.0000 - mae: 15417.5076 - val_loss: 190472832.0000 - val_mae: 13135.4219\n",
            "Epoch 8/70\n",
            "7/7 [==============================] - 0s 10ms/step - loss: 283594284.0000 - mae: 14019.4946 - val_loss: 190157120.0000 - val_mae: 13123.9092\n",
            "Epoch 9/70\n",
            "7/7 [==============================] - 0s 8ms/step - loss: 255818274.0000 - mae: 13296.8760 - val_loss: 189741424.0000 - val_mae: 13108.8125\n",
            "Epoch 10/70\n",
            "7/7 [==============================] - 0s 9ms/step - loss: 327518504.0000 - mae: 14932.4323 - val_loss: 189301760.0000 - val_mae: 13092.7119\n",
            "Epoch 11/70\n",
            "7/7 [==============================] - 0s 8ms/step - loss: 238986612.0000 - mae: 13048.9437 - val_loss: 188725376.0000 - val_mae: 13071.7021\n",
            "Epoch 12/70\n",
            "7/7 [==============================] - 0s 9ms/step - loss: 249110378.0000 - mae: 13154.9940 - val_loss: 188036640.0000 - val_mae: 13046.6348\n",
            "Epoch 13/70\n",
            "7/7 [==============================] - 0s 9ms/step - loss: 261561222.0000 - mae: 13557.9957 - val_loss: 187258704.0000 - val_mae: 13018.1504\n",
            "Epoch 14/70\n",
            "7/7 [==============================] - 0s 8ms/step - loss: 346195708.0000 - mae: 15336.6277 - val_loss: 186400128.0000 - val_mae: 12986.5508\n",
            "Epoch 15/70\n",
            "7/7 [==============================] - 0s 8ms/step - loss: 280856866.0000 - mae: 13759.7227 - val_loss: 185422848.0000 - val_mae: 12950.4863\n",
            "Epoch 16/70\n",
            "7/7 [==============================] - 0s 8ms/step - loss: 261635878.0000 - mae: 13299.7627 - val_loss: 184235680.0000 - val_mae: 12906.7900\n",
            "Epoch 17/70\n",
            "7/7 [==============================] - 0s 8ms/step - loss: 254264320.0000 - mae: 13402.4116 - val_loss: 182934608.0000 - val_mae: 12858.7002\n",
            "Epoch 18/70\n",
            "7/7 [==============================] - 0s 9ms/step - loss: 266027636.0000 - mae: 13263.6134 - val_loss: 181372752.0000 - val_mae: 12800.9980\n",
            "Epoch 19/70\n",
            "7/7 [==============================] - 0s 8ms/step - loss: 338760564.0000 - mae: 15430.8088 - val_loss: 179749568.0000 - val_mae: 12740.6670\n",
            "Epoch 20/70\n",
            "7/7 [==============================] - 0s 8ms/step - loss: 259896374.0000 - mae: 13025.9147 - val_loss: 177771856.0000 - val_mae: 12667.1318\n",
            "Epoch 21/70\n",
            "7/7 [==============================] - 0s 9ms/step - loss: 277218468.0000 - mae: 13646.8907 - val_loss: 175686640.0000 - val_mae: 12588.8789\n",
            "Epoch 22/70\n",
            "7/7 [==============================] - 0s 8ms/step - loss: 288132646.0000 - mae: 13659.5959 - val_loss: 173271888.0000 - val_mae: 12497.9941\n",
            "Epoch 23/70\n",
            "7/7 [==============================] - 0s 8ms/step - loss: 227610390.0000 - mae: 12581.4563 - val_loss: 170711728.0000 - val_mae: 12400.7568\n",
            "Epoch 24/70\n",
            "7/7 [==============================] - 0s 9ms/step - loss: 270915284.0000 - mae: 13426.7361 - val_loss: 167875296.0000 - val_mae: 12292.5400\n",
            "Epoch 25/70\n",
            "7/7 [==============================] - 0s 6ms/step - loss: 232467016.0000 - mae: 12615.5023 - val_loss: 164890544.0000 - val_mae: 12177.2480\n",
            "Epoch 26/70\n",
            "7/7 [==============================] - 0s 6ms/step - loss: 214294702.0000 - mae: 12141.9481 - val_loss: 161518800.0000 - val_mae: 12046.1699\n",
            "Epoch 27/70\n",
            "7/7 [==============================] - 0s 7ms/step - loss: 228275174.0000 - mae: 12545.6680 - val_loss: 158228368.0000 - val_mae: 11916.2705\n",
            "Epoch 28/70\n",
            "7/7 [==============================] - 0s 7ms/step - loss: 281692658.0000 - mae: 13686.7192 - val_loss: 154840640.0000 - val_mae: 11780.7236\n",
            "Epoch 29/70\n",
            "7/7 [==============================] - 0s 9ms/step - loss: 208083366.0000 - mae: 11927.3978 - val_loss: 150646256.0000 - val_mae: 11612.0664\n",
            "Epoch 30/70\n",
            "7/7 [==============================] - 0s 9ms/step - loss: 215202020.0000 - mae: 12043.4717 - val_loss: 146499984.0000 - val_mae: 11442.1719\n",
            "Epoch 31/70\n",
            "7/7 [==============================] - 0s 9ms/step - loss: 199230218.0000 - mae: 11571.8958 - val_loss: 141988656.0000 - val_mae: 11254.9346\n",
            "Epoch 32/70\n",
            "7/7 [==============================] - 0s 9ms/step - loss: 226086972.0000 - mae: 12016.5159 - val_loss: 137442976.0000 - val_mae: 11062.8057\n",
            "Epoch 33/70\n",
            "7/7 [==============================] - 0s 8ms/step - loss: 214744242.0000 - mae: 11981.3193 - val_loss: 132402464.0000 - val_mae: 10846.4844\n",
            "Epoch 34/70\n",
            "7/7 [==============================] - 0s 9ms/step - loss: 241563304.0000 - mae: 12485.3251 - val_loss: 127351024.0000 - val_mae: 10624.9883\n",
            "Epoch 35/70\n",
            "7/7 [==============================] - 0s 10ms/step - loss: 219648542.0000 - mae: 11823.1621 - val_loss: 121816560.0000 - val_mae: 10377.5156\n",
            "Epoch 36/70\n",
            "7/7 [==============================] - 0s 9ms/step - loss: 202654278.0000 - mae: 11290.7865 - val_loss: 115762704.0000 - val_mae: 10100.5703\n",
            "Epoch 37/70\n",
            "7/7 [==============================] - 0s 9ms/step - loss: 184285744.0000 - mae: 10960.5448 - val_loss: 109380528.0000 - val_mae: 9800.6064\n",
            "Epoch 38/70\n",
            "7/7 [==============================] - 0s 10ms/step - loss: 161811894.0000 - mae: 10311.7957 - val_loss: 103521504.0000 - val_mae: 9515.4023\n",
            "Epoch 39/70\n",
            "7/7 [==============================] - 0s 9ms/step - loss: 191516838.0000 - mae: 11129.1117 - val_loss: 97458952.0000 - val_mae: 9211.1221\n",
            "Epoch 40/70\n",
            "7/7 [==============================] - 0s 9ms/step - loss: 140014373.0000 - mae: 9584.3043 - val_loss: 90420240.0000 - val_mae: 8847.0332\n",
            "Epoch 41/70\n",
            "7/7 [==============================] - 0s 9ms/step - loss: 170032592.0000 - mae: 10232.8920 - val_loss: 83660760.0000 - val_mae: 8481.9932\n",
            "Epoch 42/70\n",
            "7/7 [==============================] - 0s 10ms/step - loss: 167097090.0000 - mae: 10246.7875 - val_loss: 76908360.0000 - val_mae: 8100.8760\n",
            "Epoch 43/70\n",
            "7/7 [==============================] - 0s 10ms/step - loss: 131943553.0000 - mae: 9150.3452 - val_loss: 70741016.0000 - val_mae: 7734.6411\n",
            "Epoch 44/70\n",
            "7/7 [==============================] - 0s 8ms/step - loss: 158164740.0000 - mae: 9575.7374 - val_loss: 64258928.0000 - val_mae: 7331.0664\n",
            "Epoch 45/70\n",
            "7/7 [==============================] - 0s 9ms/step - loss: 148356272.0000 - mae: 9427.6080 - val_loss: 57836216.0000 - val_mae: 6907.6499\n",
            "Epoch 46/70\n",
            "7/7 [==============================] - 0s 11ms/step - loss: 105856607.5000 - mae: 7874.2862 - val_loss: 50891324.0000 - val_mae: 6420.8877\n",
            "Epoch 47/70\n",
            "7/7 [==============================] - 0s 10ms/step - loss: 102864229.0000 - mae: 7659.1065 - val_loss: 44773080.0000 - val_mae: 5956.9526\n",
            "Epoch 48/70\n",
            "7/7 [==============================] - 0s 9ms/step - loss: 112660215.0000 - mae: 8094.2842 - val_loss: 38730864.0000 - val_mae: 5461.9878\n",
            "Epoch 49/70\n",
            "7/7 [==============================] - 0s 10ms/step - loss: 104562202.0000 - mae: 7515.3727 - val_loss: 33037086.0000 - val_mae: 4950.2202\n",
            "Epoch 50/70\n",
            "7/7 [==============================] - 0s 11ms/step - loss: 82976243.0000 - mae: 6476.3090 - val_loss: 27149082.0000 - val_mae: 4359.8794\n",
            "Epoch 51/70\n",
            "7/7 [==============================] - 0s 10ms/step - loss: 72255712.5000 - mae: 5966.5909 - val_loss: 22337790.0000 - val_mae: 3856.1187\n",
            "Epoch 52/70\n",
            "7/7 [==============================] - 0s 9ms/step - loss: 86940532.0000 - mae: 6341.6428 - val_loss: 18401608.0000 - val_mae: 3398.0193\n",
            "Epoch 53/70\n",
            "7/7 [==============================] - 0s 10ms/step - loss: 68444372.5000 - mae: 5635.9438 - val_loss: 14459448.0000 - val_mae: 2938.7063\n",
            "Epoch 54/70\n",
            "7/7 [==============================] - 0s 10ms/step - loss: 56811814.5000 - mae: 5069.2450 - val_loss: 11224599.0000 - val_mae: 2588.3320\n",
            "Epoch 55/70\n",
            "7/7 [==============================] - 0s 10ms/step - loss: 49812652.0000 - mae: 4748.3935 - val_loss: 9158628.0000 - val_mae: 2368.5913\n",
            "Epoch 56/70\n",
            "7/7 [==============================] - 0s 10ms/step - loss: 35816511.2500 - mae: 4051.3912 - val_loss: 7664648.0000 - val_mae: 2201.7930\n",
            "Epoch 57/70\n",
            "7/7 [==============================] - 0s 10ms/step - loss: 35537378.5000 - mae: 4042.9677 - val_loss: 6984984.0000 - val_mae: 2095.6704\n",
            "Epoch 58/70\n",
            "7/7 [==============================] - 0s 8ms/step - loss: 31786421.5000 - mae: 3781.4185 - val_loss: 7148392.0000 - val_mae: 2203.3760\n",
            "Epoch 59/70\n",
            "7/7 [==============================] - 0s 11ms/step - loss: 30280283.6250 - mae: 3576.4413 - val_loss: 8046034.0000 - val_mae: 2417.9548\n",
            "Epoch 60/70\n",
            "7/7 [==============================] - 0s 10ms/step - loss: 23189335.1250 - mae: 3235.7066 - val_loss: 9639981.0000 - val_mae: 2680.6494\n",
            "Epoch 61/70\n",
            "7/7 [==============================] - 0s 9ms/step - loss: 20143316.3750 - mae: 3037.7126 - val_loss: 11854687.0000 - val_mae: 2967.3677\n",
            "Epoch 62/70\n",
            "7/7 [==============================] - 0s 10ms/step - loss: 17217765.5000 - mae: 3093.0739 - val_loss: 14019761.0000 - val_mae: 3201.7048\n",
            "Epoch 63/70\n",
            "7/7 [==============================] - 0s 9ms/step - loss: 16637423.1250 - mae: 2908.4615 - val_loss: 16744683.0000 - val_mae: 3488.2205\n",
            "Epoch 64/70\n",
            "7/7 [==============================] - 0s 9ms/step - loss: 12629146.8750 - mae: 2508.3803 - val_loss: 18739682.0000 - val_mae: 3684.6506\n",
            "Epoch 65/70\n",
            "7/7 [==============================] - 0s 10ms/step - loss: 12832827.8750 - mae: 2583.7629 - val_loss: 21241496.0000 - val_mae: 3925.5681\n",
            "Epoch 66/70\n",
            "7/7 [==============================] - 0s 9ms/step - loss: 14404968.7500 - mae: 2768.9123 - val_loss: 22794222.0000 - val_mae: 4067.1162\n",
            "Epoch 67/70\n",
            "7/7 [==============================] - 0s 9ms/step - loss: 12345549.6250 - mae: 2555.7494 - val_loss: 24724010.0000 - val_mae: 4234.8315\n",
            "Epoch 68/70\n",
            "7/7 [==============================] - 0s 11ms/step - loss: 12607054.6250 - mae: 2593.0088 - val_loss: 24476762.0000 - val_mae: 4215.8638\n",
            "Epoch 69/70\n",
            "7/7 [==============================] - 0s 10ms/step - loss: 12003675.8750 - mae: 2536.0372 - val_loss: 25354528.0000 - val_mae: 4292.2534\n",
            "Epoch 70/70\n",
            "7/7 [==============================] - 0s 10ms/step - loss: 11239719.7500 - mae: 2504.2705 - val_loss: 25893450.0000 - val_mae: 4342.1797\n"
          ],
          "name": "stdout"
        }
      ]
    },
    {
      "cell_type": "code",
      "metadata": {
        "id": "vyedWmb3zgEw"
      },
      "source": [
        "train_mae = history.history['mae']\n",
        "val_mae = history.history['val_mae']\n",
        "epochs = range(1, 71)"
      ],
      "execution_count": null,
      "outputs": []
    },
    {
      "cell_type": "code",
      "metadata": {
        "colab": {
          "base_uri": "https://localhost:8080/",
          "height": 295
        },
        "id": "FfcUbD8KzpFf",
        "outputId": "2442d57f-00c6-4b6f-c0da-2f10537f9679"
      },
      "source": [
        "plt.plot(epochs, train_mae, 'b.', label='Training MAE')\n",
        "plt.plot(epochs, val_mae, 'r-', label='Validation MAE')\n",
        "plt.title('Training and Validation loss ')\n",
        "plt.xlabel('Epochs')\n",
        "plt.ylabel('MAE')\n",
        "plt.legend()\n",
        "plt.show()"
      ],
      "execution_count": null,
      "outputs": [
        {
          "output_type": "display_data",
          "data": {
            "image/png": "[encoded data removed]",
            "text/plain": [
              "<Figure size 432x288 with 1 Axes>"
            ]
          },
          "metadata": {
            "tags": [],
            "needs_background": "light"
          }
        }
      ]
    },
    {
      "cell_type": "code",
      "metadata": {
        "id": "d60TpIwhz11T"
      },
      "source": [
        "train_loss = history.history['loss']\n",
        "val_loss = history.history['val_loss']\n"
      ],
      "execution_count": null,
      "outputs": []
    },
    {
      "cell_type": "code",
      "metadata": {
        "colab": {
          "base_uri": "https://localhost:8080/",
          "height": 295
        },
        "id": "t5be0m13z-U8",
        "outputId": "93401bf4-612b-49f4-9c4b-c7289a6a3a75"
      },
      "source": [
        "plt.plot(epochs, train_loss, 'r.', label='Training Loss')\n",
        "plt.plot(epochs, val_loss, 'g', label='Validation Loss')\n",
        "plt.title('Training and Validation loss ')\n",
        "plt.xlabel('Epochs')\n",
        "plt.ylabel('Loss')\n",
        "plt.legend()\n",
        "plt.show()"
      ],
      "execution_count": null,
      "outputs": [
        {
          "output_type": "display_data",
          "data": {
            "image/png": "[encoded data removed]",
            "text/plain": [
              "<Figure size 432x288 with 1 Axes>"
            ]
          },
          "metadata": {
            "tags": [],
            "needs_background": "light"
          }
        }
      ]
    },
    {
      "cell_type": "code",
      "metadata": {
        "colab": {
          "base_uri": "https://localhost:8080/"
        },
        "id": "FVT37ErB0Hno",
        "outputId": "38f1023b-e234-4a7f-b7f0-8025cf62d78e"
      },
      "source": [
        "test_labels"
      ],
      "execution_count": null,
      "outputs": [
        {
          "output_type": "execute_result",
          "data": {
            "text/plain": [
              "106    18399.0\n",
              "107    11900.0\n",
              "108    13200.0\n",
              "109    12440.0\n",
              "110    13860.0\n",
              "111    15580.0\n",
              "112    16900.0\n",
              "113    16695.0\n",
              "114    17075.0\n",
              "115    16630.0\n",
              "116    17950.0\n",
              "117    18150.0\n",
              "118     5572.0\n",
              "119     7957.0\n",
              "120     6229.0\n",
              "121     6692.0\n",
              "122     7609.0\n",
              "123     8921.0\n",
              "124    12764.0\n",
              "125    22018.0\n",
              "126    32528.0\n",
              "127    34028.0\n",
              "128    37028.0\n",
              "129    31400.5\n",
              "130     9295.0\n",
              "131     9895.0\n",
              "132    11850.0\n",
              "133    12170.0\n",
              "134    15040.0\n",
              "135    15510.0\n",
              "136    18150.0\n",
              "137    18620.0\n",
              "138     5118.0\n",
              "139     7053.0\n",
              "140     7603.0\n",
              "141     7126.0\n",
              "142     7775.0\n",
              "143     9960.0\n",
              "144     9233.0\n",
              "145    11259.0\n",
              "146     7463.0\n",
              "147    10198.0\n",
              "148     8013.0\n",
              "149    11694.0\n",
              "150     5348.0\n",
              "151     6338.0\n",
              "152     6488.0\n",
              "153     6918.0\n",
              "154     7898.0\n",
              "155     8778.0\n",
              "156     6938.0\n",
              "157     7198.0\n",
              "158     7898.0\n",
              "159     7788.0\n",
              "160     7738.0\n",
              "161     8358.0\n",
              "162     9258.0\n",
              "163     8058.0\n",
              "164     8238.0\n",
              "165     9298.0\n",
              "Name: price, dtype: float64"
            ]
          },
          "metadata": {
            "tags": []
          },
          "execution_count": 305
        }
      ]
    },
    {
      "cell_type": "code",
      "metadata": {
        "colab": {
          "base_uri": "https://localhost:8080/"
        },
        "id": "oi1KltpG0Elp",
        "outputId": "5df7ca6e-9a42-432b-8e43-a157fb587c9c"
      },
      "source": [
        "najomi.predict(test_data)"
      ],
      "execution_count": null,
      "outputs": [
        {
          "output_type": "execute_result",
          "data": {
            "text/plain": [
              "array([[19450.514 ],\n",
              "       [20842.86  ],\n",
              "       [21554.377 ],\n",
              "       [21786.3   ],\n",
              "       [23575.668 ],\n",
              "       [25655.365 ],\n",
              "       [21524.217 ],\n",
              "       [21886.473 ],\n",
              "       [23095.021 ],\n",
              "       [25759.428 ],\n",
              "       [21652.865 ],\n",
              "       [21886.473 ],\n",
              "       [22157.223 ],\n",
              "       [ 4333.0967],\n",
              "       [ 7610.9746],\n",
              "       [ 5024.2793],\n",
              "       [ 5788.711 ],\n",
              "       [ 6183.6113],\n",
              "       [15774.715 ],\n",
              "       [17476.492 ],\n",
              "       [19025.822 ],\n",
              "       [15183.795 ],\n",
              "       [15183.795 ],\n",
              "       [15336.283 ],\n",
              "       [26074.967 ],\n",
              "       [15966.584 ],\n",
              "       [14616.529 ],\n",
              "       [17842.996 ],\n",
              "       [18324.67  ],\n",
              "       [14039.226 ],\n",
              "       [18433.703 ],\n",
              "       [18672.584 ],\n",
              "       [19158.496 ],\n",
              "       [ 7382.323 ],\n",
              "       [10190.975 ],\n",
              "       [10307.197 ],\n",
              "       [10887.349 ],\n",
              "       [12817.619 ],\n",
              "       [12973.012 ],\n",
              "       [14129.402 ],\n",
              "       [14357.591 ],\n",
              "       [11919.581 ],\n",
              "       [12940.683 ],\n",
              "       [13269.619 ],\n",
              "       [15135.521 ],\n",
              "       [ 6319.2856],\n",
              "       [ 7128.4604],\n",
              "       [ 6923.519 ],\n",
              "       [ 8972.958 ],\n",
              "       [ 9934.871 ],\n",
              "       [11353.928 ],\n",
              "       [ 9350.195 ],\n",
              "       [ 9107.891 ],\n",
              "       [10592.847 ],\n",
              "       [ 8110.0303],\n",
              "       [ 6673.0156],\n",
              "       [ 9880.057 ],\n",
              "       [10168.002 ],\n",
              "       [10053.115 ],\n",
              "       [ 9856.852 ],\n",
              "       [ 9897.056 ]], dtype=float32)"
            ]
          },
          "metadata": {
            "tags": []
          },
          "execution_count": 307
        }
      ]
    }
  ]
}